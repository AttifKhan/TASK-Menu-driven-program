{
 "cells": [
  {
   "cell_type": "markdown",
   "id": "9fafbb28",
   "metadata": {},
   "source": [
    "\n",
    "\n",
    "\n",
    "        \n",
    "        "
   ]
  },
  {
   "cell_type": "markdown",
   "id": "950f69b5",
   "metadata": {},
   "source": [
    "# "
   ]
  },
  {
   "cell_type": "code",
   "execution_count": null,
   "id": "72662166",
   "metadata": {},
   "outputs": [
    {
     "name": "stdout",
     "output_type": "stream",
     "text": [
      "-----FILE OPERATIONS-----\n",
      "\n",
      "\n",
      " WRITE OR CREATE A FILE\n",
      " READ A FILE\n",
      " APPEND A FILE\n",
      " EXIT\n",
      "\n",
      "\n"
     ]
    }
   ],
   "source": [
    "\n",
    "\n",
    "\n",
    "\n",
    "import pyttsx3\n",
    "while True:\n",
    "    \n",
    "    print(\"-----FILE OPERATIONS-----\")\n",
    "    print(\"\\n\")\n",
    "    print(\" WRITE OR CREATE A FILE\")\n",
    "    print(\" READ A FILE\")\n",
    "    print(\" APPEND A FILE\")\n",
    "    print(\" EXIT\")\n",
    "    print(\"\\n\")\n",
    "\n",
    "\n",
    "    myspeaker = pyttsx3.init()\n",
    "    myspeaker.say(\"Enter   the   prompt \")\n",
    "    myspeaker.runAndWait()\n",
    "    ch = input(\"Enter the prompt\\n\")\n",
    "   \n",
    "\n",
    "    if  (\"write\" in ch.lower()) or (\"create\" in ch.lower())  :\n",
    "            myspeaker.say(\"give   the   file   a   name \")\n",
    "            myspeaker.runAndWait()\n",
    "            name=input(\"give the file a name\\n\")\n",
    "            create = open(name,'w')\n",
    "            myspeaker.say(\"Enter   the   content   of   your   file \")\n",
    "            myspeaker.runAndWait()\n",
    "            create.write(input(\"Enter the content of your file\"))\n",
    "            myspeaker.say(\"File created\")\n",
    "            myspeaker.runAndWait()\n",
    "            print(\"File created\\n\")\n",
    "            create.close()\n",
    "            \n",
    "    elif (\"read\" in ch.lower()) :\n",
    "        myspeaker.say(\"Enter   the   name   of   the   file   you   want   to   read\")\n",
    "        myspeaker.runAndWait()\n",
    "        name =input(\"Enter the name of the file you want to read\\n\")\n",
    "        r=open(name,\"r\")\n",
    "        print(r.read())\n",
    "        print(\"\\n\")\n",
    "        r.seek(0,0)\n",
    "        r.close()\n",
    "        \n",
    "    elif (\"append\" in ch.lower()) or (\"extend\" in ch.lower()) :\n",
    "        myspeaker.say(\"Enter   the  name  of  the  file   you  want  to  append  or  extend\")\n",
    "        myspeaker.runAndWait()\n",
    "        name =input(\"Enter the name of the file you want to append or extend\\n\")\n",
    "        a=open(name,\"a\")\n",
    "        myspeaker.say(\"Enter  the  text  you  want  to  append  to   this  file\")\n",
    "        myspeaker.runAndWait()\n",
    "        a.write(input(\"Enter the text you want to append to this file\"))\n",
    "        a.close()\n",
    "        \n",
    "\n",
    "    elif (\"exit\" in ch.lower()) :\n",
    "        myspeaker.say(\"Thank you, Exiting  the  program\")\n",
    "        myspeaker.runAndWait()\n",
    "        break\n",
    "        \n",
    "    else:\n",
    "        myspeaker.say(\"Please  enter a  valid  prompt\")\n",
    "        myspeaker.runAndWait()\n",
    "        print(\"Please enter a valid prompt\")\n",
    "        \n",
    "        "
   ]
  },
  {
   "cell_type": "markdown",
   "id": "7df918ec",
   "metadata": {},
   "source": []
  }
 ],
 "metadata": {
  "kernelspec": {
   "display_name": "Python 3 (ipykernel)",
   "language": "python",
   "name": "python3"
  },
  "language_info": {
   "codemirror_mode": {
    "name": "ipython",
    "version": 3
   },
   "file_extension": ".py",
   "mimetype": "text/x-python",
   "name": "python",
   "nbconvert_exporter": "python",
   "pygments_lexer": "ipython3",
   "version": "3.10.9"
  }
 },
 "nbformat": 4,
 "nbformat_minor": 5
}
